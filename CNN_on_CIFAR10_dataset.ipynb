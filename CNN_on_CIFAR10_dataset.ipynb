{
 "cells": [
  {
   "cell_type": "markdown",
   "id": "04e08d0a",
   "metadata": {},
   "source": [
    "## Small Image Classification Using Convolutional Neural Network (CNN)"
   ]
  },
  {
   "cell_type": "markdown",
   "id": "cdbb44f4",
   "metadata": {},
   "source": [
    "In this notebook, we will classify small images cifar10 dataset from tensorflow keras datasets. There are total 10 classes as shown below. We will use CNN for classification"
   ]
  },
  {
   "cell_type": "code",
   "execution_count": 138,
   "id": "f4b9c4f4",
   "metadata": {},
   "outputs": [],
   "source": [
    "import tensorflow as tf\n",
    "from tensorflow.keras import datasets,layers, models\n",
    "import matplotlib.pyplot as plt\n",
    "import numpy as np"
   ]
  },
  {
   "cell_type": "code",
   "execution_count": 54,
   "id": "e56673ee",
   "metadata": {},
   "outputs": [],
   "source": [
    "(X_train,y_train) , (X_test,y_test) =  datasets.cifar10.load_data()"
   ]
  },
  {
   "cell_type": "code",
   "execution_count": 55,
   "id": "62f89619",
   "metadata": {},
   "outputs": [
    {
     "data": {
      "text/plain": [
       "(50000, 32, 32, 3)"
      ]
     },
     "execution_count": 55,
     "metadata": {},
     "output_type": "execute_result"
    }
   ],
   "source": [
    "X_train.shape"
   ]
  },
  {
   "cell_type": "code",
   "execution_count": 56,
   "id": "f5e714a8",
   "metadata": {},
   "outputs": [
    {
     "data": {
      "text/plain": [
       "(10000, 32, 32, 3)"
      ]
     },
     "execution_count": 56,
     "metadata": {},
     "output_type": "execute_result"
    }
   ],
   "source": [
    "X_test.shape"
   ]
  },
  {
   "cell_type": "code",
   "execution_count": 57,
   "id": "4b5a8b14",
   "metadata": {},
   "outputs": [],
   "source": [
    "classes = 'airplane automobile bird cat deer dog frog horse ship truck'.split()"
   ]
  },
  {
   "cell_type": "code",
   "execution_count": 58,
   "id": "376b4904",
   "metadata": {},
   "outputs": [
    {
     "data": {
      "text/plain": [
       "array([[6],\n",
       "       [9],\n",
       "       [9],\n",
       "       ...,\n",
       "       [9],\n",
       "       [1],\n",
       "       [1]], dtype=uint8)"
      ]
     },
     "execution_count": 58,
     "metadata": {},
     "output_type": "execute_result"
    }
   ],
   "source": [
    "y_train "
   ]
  },
  {
   "cell_type": "code",
   "execution_count": 59,
   "id": "99eeac13",
   "metadata": {},
   "outputs": [
    {
     "data": {
      "text/plain": [
       "(50000, 1)"
      ]
     },
     "execution_count": 59,
     "metadata": {},
     "output_type": "execute_result"
    }
   ],
   "source": [
    "y_train.shape"
   ]
  },
  {
   "cell_type": "code",
   "execution_count": 78,
   "id": "4976e9f2",
   "metadata": {},
   "outputs": [],
   "source": [
    "y_train = y_train.reshape(-1,)\n",
    "y_test = y_test.reshape(-1,)"
   ]
  },
  {
   "cell_type": "code",
   "execution_count": 61,
   "id": "550ff59c",
   "metadata": {},
   "outputs": [
    {
     "data": {
      "text/plain": [
       "array([6, 9, 9, ..., 9, 1, 1], dtype=uint8)"
      ]
     },
     "execution_count": 61,
     "metadata": {},
     "output_type": "execute_result"
    }
   ],
   "source": [
    "y_train"
   ]
  },
  {
   "cell_type": "code",
   "execution_count": 95,
   "id": "059a1b60",
   "metadata": {},
   "outputs": [],
   "source": [
    "def plot_sample(X,y,index):\n",
    "    plt.figure(figsize = (15,2))\n",
    "    plt.matshow(X[index])\n",
    "    plt.xlabel(classes[y[index]])"
   ]
  },
  {
   "cell_type": "code",
   "execution_count": 96,
   "id": "52079eba",
   "metadata": {},
   "outputs": [
    {
     "data": {
      "text/plain": [
       "<Figure size 1080x144 with 0 Axes>"
      ]
     },
     "metadata": {},
     "output_type": "display_data"
    },
    {
     "data": {
      "image/png": "[encoded data removed]",
      "text/plain": [
       "<Figure size 288x288 with 1 Axes>"
      ]
     },
     "metadata": {
      "needs_background": "light"
     },
     "output_type": "display_data"
    }
   ],
   "source": [
    "plot_sample(X_train,y_train,9)"
   ]
  },
  {
   "cell_type": "code",
   "execution_count": 64,
   "id": "b0c4efb2",
   "metadata": {},
   "outputs": [],
   "source": [
    "X_train = X_train / 255\n",
    "X_test = X_test / 255"
   ]
  },
  {
   "cell_type": "code",
   "execution_count": 65,
   "id": "db436ece",
   "metadata": {},
   "outputs": [
    {
     "data": {
      "text/plain": [
       "(50000, 32, 32, 3)"
      ]
     },
     "execution_count": 65,
     "metadata": {},
     "output_type": "execute_result"
    }
   ],
   "source": [
    "X_train.shape"
   ]
  },
  {
   "cell_type": "code",
   "execution_count": 70,
   "id": "f6b70e35",
   "metadata": {},
   "outputs": [
    {
     "name": "stdout",
     "output_type": "stream",
     "text": [
      "Model: \"sequential_7\"\n",
      "_________________________________________________________________\n",
      " Layer (type)                Output Shape              Param #   \n",
      "=================================================================\n",
      " flatten_7 (Flatten)         (None, 3072)              0         \n",
      "                                                                 \n",
      " dense_21 (Dense)            (None, 3000)              9219000   \n",
      "                                                                 \n",
      " dense_22 (Dense)            (None, 1000)              3001000   \n",
      "                                                                 \n",
      " dense_23 (Dense)            (None, 10)                10010     \n",
      "                                                                 \n",
      "=================================================================\n",
      "Total params: 12,230,010\n",
      "Trainable params: 12,230,010\n",
      "Non-trainable params: 0\n",
      "_________________________________________________________________\n"
     ]
    }
   ],
   "source": [
    "ann = models.Sequential([\n",
    "    layers.Flatten(input_shape = (32,32,3)),\n",
    "    layers.Dense(3000, activation = 'relu'),\n",
    "    layers.Dense(1000, activation = 'relu'),\n",
    "    layers.Dense(10, activation = 'sigmoid')\n",
    "])\n",
    "\n",
    "ann.compile(optimizer = 'SGD',\n",
    "            loss = 'sparse_categorical_crossentropy',\n",
    "            metrics=['accuracy']\n",
    "           )\n",
    "\n",
    "ann.summary()"
   ]
  },
  {
   "cell_type": "code",
   "execution_count": 71,
   "id": "3fe962d8",
   "metadata": {},
   "outputs": [
    {
     "name": "stdout",
     "output_type": "stream",
     "text": [
      "Epoch 1/5\n",
      "1563/1563 [==============================] - 137s 87ms/step - loss: 1.8110 - accuracy: 0.3572\n",
      "Epoch 2/5\n",
      "1563/1563 [==============================] - 120s 77ms/step - loss: 1.6234 - accuracy: 0.4273\n",
      "Epoch 3/5\n",
      "1563/1563 [==============================] - 129s 83ms/step - loss: 1.5415 - accuracy: 0.4571\n",
      "Epoch 4/5\n",
      "1563/1563 [==============================] - 133s 85ms/step - loss: 1.4800 - accuracy: 0.4775\n",
      "Epoch 5/5\n",
      "1563/1563 [==============================] - 132s 84ms/step - loss: 1.4313 - accuracy: 0.4946\n"
     ]
    },
    {
     "data": {
      "text/plain": [
       "<keras.callbacks.History at 0x1c2d6b1ae20>"
      ]
     },
     "execution_count": 71,
     "metadata": {},
     "output_type": "execute_result"
    }
   ],
   "source": [
    "ann.fit(X_train,y_train, epochs = 5)"
   ]
  },
  {
   "cell_type": "code",
   "execution_count": 72,
   "id": "80c03cf8",
   "metadata": {},
   "outputs": [
    {
     "name": "stdout",
     "output_type": "stream",
     "text": [
      "              precision    recall  f1-score   support\n",
      "\n",
      "           0       0.62      0.43      0.51      1000\n",
      "           1       0.58      0.65      0.61      1000\n",
      "           2       0.58      0.10      0.16      1000\n",
      "           3       0.36      0.34      0.35      1000\n",
      "           4       0.46      0.41      0.43      1000\n",
      "           5       0.34      0.46      0.39      1000\n",
      "           6       0.49      0.60      0.54      1000\n",
      "           7       0.51      0.61      0.56      1000\n",
      "           8       0.46      0.77      0.58      1000\n",
      "           9       0.60      0.46      0.52      1000\n",
      "\n",
      "    accuracy                           0.48     10000\n",
      "   macro avg       0.50      0.48      0.47     10000\n",
      "weighted avg       0.50      0.48      0.47     10000\n",
      "\n"
     ]
    }
   ],
   "source": [
    "from sklearn.metrics import confusion_matrix,classification_report\n",
    "y_pred = ann.predict(X_test)\n",
    "y_pred_classes = [np.argmax(ele) for ele in y_pred]\n",
    "\n",
    "print(classification_report(y_test,y_pred_classes))"
   ]
  },
  {
   "cell_type": "markdown",
   "id": "fc9abab1",
   "metadata": {},
   "source": [
    "sigmoid\n",
    "1: 0.45\n",
    "2: 0.67\n",
    "    \n",
    "* softmax :- We get normalised output (Total sum = 1)\n",
    "* 1: (0.45) / (0.45 + 0.67)  ||||||    2: (0.67) / (0.45 + 0.67)\n",
    "\n",
    "\n"
   ]
  },
  {
   "cell_type": "markdown",
   "id": "1b6b14a6",
   "metadata": {},
   "source": [
    "#### CNN"
   ]
  },
  {
   "cell_type": "code",
   "execution_count": null,
   "id": "91f8e0f6",
   "metadata": {},
   "outputs": [],
   "source": [
    "model.add(MaxPooling2D(pool_size=(2, 2), strides=(1, 1), padding='same'))\n",
    "model.add(Conv2D(kernel_size=(2, 2), padding='same', strides=(2, 2), filters=64))\n",
    "model.add(MaxPooling2D(pool_size=(2, 2), strides=(1, 1), padding='same'))"
   ]
  },
  {
   "cell_type": "code",
   "execution_count": 149,
   "id": "624b1844",
   "metadata": {},
   "outputs": [
    {
     "name": "stdout",
     "output_type": "stream",
     "text": [
      "Model: \"sequential_13\"\n",
      "_________________________________________________________________\n",
      " Layer (type)                Output Shape              Param #   \n",
      "=================================================================\n",
      " conv2d_10 (Conv2D)          (None, 30, 30, 32)        896       \n",
      "                                                                 \n",
      " max_pooling2d_10 (MaxPoolin  (None, 15, 15, 32)       0         \n",
      " g2D)                                                            \n",
      "                                                                 \n",
      " conv2d_11 (Conv2D)          (None, 13, 13, 64)        18496     \n",
      "                                                                 \n",
      " max_pooling2d_11 (MaxPoolin  (None, 6, 6, 64)         0         \n",
      " g2D)                                                            \n",
      "                                                                 \n",
      " flatten_13 (Flatten)        (None, 2304)              0         \n",
      "                                                                 \n",
      " dense_34 (Dense)            (None, 64)                147520    \n",
      "                                                                 \n",
      " dense_35 (Dense)            (None, 10)                650       \n",
      "                                                                 \n",
      "=================================================================\n",
      "Total params: 167,562\n",
      "Trainable params: 167,562\n",
      "Non-trainable params: 0\n",
      "_________________________________________________________________\n"
     ]
    }
   ],
   "source": [
    "cnn = models.Sequential([\n",
    "    #cnn   - feature extraction\n",
    "    layers.Conv2D(filters=32, kernel_size=(3,3),activation='relu',input_shape = (32,32,3)),\n",
    "    layers.MaxPooling2D((2,2)),\n",
    "    \n",
    "    layers.Conv2D(filters=64, kernel_size=(3,3),activation='relu'),\n",
    "    layers.MaxPooling2D((2,2)),\n",
    "    \n",
    "    #dense\n",
    "    layers.Flatten(),\n",
    "    layers.Dense(64, activation = 'relu'),\n",
    "    layers.Dense(10, activation = 'softmax')\n",
    "])\n",
    "\n",
    "cnn.compile(optimizer='adam',\n",
    "           loss='sparse_categorical_crossentropy',\n",
    "           metrics='accuracy')\n",
    "\n",
    "cnn.summary()"
   ]
  },
  {
   "cell_type": "code",
   "execution_count": 150,
   "id": "4cecdff6",
   "metadata": {},
   "outputs": [
    {
     "name": "stdout",
     "output_type": "stream",
     "text": [
      "Epoch 1/20\n",
      "1563/1563 [==============================] - 57s 36ms/step - loss: 1.5021 - accuracy: 0.4592\n",
      "Epoch 2/20\n",
      "1563/1563 [==============================] - 58s 37ms/step - loss: 1.1468 - accuracy: 0.5982\n",
      "Epoch 3/20\n",
      "1563/1563 [==============================] - 43s 28ms/step - loss: 1.0149 - accuracy: 0.6464\n",
      "Epoch 4/20\n",
      "1563/1563 [==============================] - 39s 25ms/step - loss: 0.9360 - accuracy: 0.6749\n",
      "Epoch 5/20\n",
      "1563/1563 [==============================] - 35s 22ms/step - loss: 0.8751 - accuracy: 0.6973\n",
      "Epoch 6/20\n",
      "1563/1563 [==============================] - 35s 23ms/step - loss: 0.8242 - accuracy: 0.7165\n",
      "Epoch 7/20\n",
      "1563/1563 [==============================] - 37s 23ms/step - loss: 0.7791 - accuracy: 0.7287\n",
      "Epoch 8/20\n",
      "1563/1563 [==============================] - 37s 23ms/step - loss: 0.7373 - accuracy: 0.7452\n",
      "Epoch 9/20\n",
      "1563/1563 [==============================] - 35s 23ms/step - loss: 0.6986 - accuracy: 0.7597\n",
      "Epoch 10/20\n",
      "1563/1563 [==============================] - 35s 22ms/step - loss: 0.6679 - accuracy: 0.7688\n",
      "Epoch 11/20\n",
      "1563/1563 [==============================] - 35s 22ms/step - loss: 0.6329 - accuracy: 0.7802\n",
      "Epoch 12/20\n",
      "1563/1563 [==============================] - 36s 23ms/step - loss: 0.6033 - accuracy: 0.7922\n",
      "Epoch 13/20\n",
      "1563/1563 [==============================] - 34s 22ms/step - loss: 0.5756 - accuracy: 0.8000\n",
      "Epoch 14/20\n",
      "1563/1563 [==============================] - 37s 23ms/step - loss: 0.5493 - accuracy: 0.8094\n",
      "Epoch 15/20\n",
      "1563/1563 [==============================] - 34s 22ms/step - loss: 0.5235 - accuracy: 0.8175\n",
      "Epoch 16/20\n",
      "1563/1563 [==============================] - 36s 23ms/step - loss: 0.5012 - accuracy: 0.8252\n",
      "Epoch 17/20\n",
      "1563/1563 [==============================] - 34s 22ms/step - loss: 0.4781 - accuracy: 0.8320\n",
      "Epoch 18/20\n",
      "1563/1563 [==============================] - 34s 22ms/step - loss: 0.4573 - accuracy: 0.8396\n",
      "Epoch 19/20\n",
      "1563/1563 [==============================] - 34s 22ms/step - loss: 0.4395 - accuracy: 0.8464\n",
      "Epoch 20/20\n",
      "1563/1563 [==============================] - 36s 23ms/step - loss: 0.4186 - accuracy: 0.8524\n"
     ]
    },
    {
     "data": {
      "text/plain": [
       "<keras.callbacks.History at 0x1c2d8667a90>"
      ]
     },
     "execution_count": 150,
     "metadata": {},
     "output_type": "execute_result"
    }
   ],
   "source": [
    "cnn.fit(X_train,y_train,epochs=20)"
   ]
  },
  {
   "cell_type": "code",
   "execution_count": 151,
   "id": "9152e568",
   "metadata": {},
   "outputs": [
    {
     "name": "stdout",
     "output_type": "stream",
     "text": [
      "313/313 [==============================] - 2s 8ms/step - loss: 1.1290 - accuracy: 0.6895\n"
     ]
    },
    {
     "data": {
      "text/plain": [
       "[1.1290204524993896, 0.6894999742507935]"
      ]
     },
     "execution_count": 151,
     "metadata": {},
     "output_type": "execute_result"
    }
   ],
   "source": [
    "cnn.evaluate(X_test,y_test)"
   ]
  },
  {
   "cell_type": "code",
   "execution_count": 143,
   "id": "25ffa53e",
   "metadata": {},
   "outputs": [
    {
     "data": {
      "text/plain": [
       "array([[8.3534158e-04, 3.5488984e-04, 3.3242759e-04, ..., 2.2946199e-07,\n",
       "        4.0738233e-03, 6.0699182e-04],\n",
       "       [9.7053024e-05, 3.0746341e-03, 1.0568196e-07, ..., 1.0096488e-10,\n",
       "        9.9681443e-01, 1.3811042e-05],\n",
       "       [2.2352968e-01, 2.2749331e-02, 6.5316842e-03, ..., 2.8551870e-04,\n",
       "        7.0915711e-01, 3.7591964e-02],\n",
       "       ...,\n",
       "       [9.3390372e-07, 2.9447824e-09, 7.5292461e-02, ..., 1.8766114e-02,\n",
       "        1.0043163e-06, 4.1554912e-07],\n",
       "       [3.8568094e-01, 1.2067255e-01, 4.4425252e-01, ..., 3.9542149e-04,\n",
       "        9.8900367e-03, 4.9680995e-05],\n",
       "       [7.8084426e-08, 7.9400007e-07, 5.8685931e-05, ..., 9.9980491e-01,\n",
       "        1.2736494e-06, 4.8132662e-08]], dtype=float32)"
      ]
     },
     "execution_count": 143,
     "metadata": {},
     "output_type": "execute_result"
    }
   ],
   "source": [
    "y_pred = cnn.predict(X_test)\n",
    "y_pred"
   ]
  },
  {
   "cell_type": "code",
   "execution_count": 144,
   "id": "797304d2",
   "metadata": {},
   "outputs": [],
   "source": [
    "y_classes = [np.argmax(ele) for ele in y_pred]"
   ]
  },
  {
   "cell_type": "code",
   "execution_count": 145,
   "id": "fb0efa33",
   "metadata": {},
   "outputs": [
    {
     "data": {
      "text/plain": [
       "[3, 8, 8, 0, 6]"
      ]
     },
     "execution_count": 145,
     "metadata": {},
     "output_type": "execute_result"
    }
   ],
   "source": [
    "y_classes[:5]"
   ]
  },
  {
   "cell_type": "code",
   "execution_count": 146,
   "id": "ae72ab95",
   "metadata": {},
   "outputs": [
    {
     "data": {
      "text/plain": [
       "array([3, 8, 8, 0, 6], dtype=uint8)"
      ]
     },
     "execution_count": 146,
     "metadata": {},
     "output_type": "execute_result"
    }
   ],
   "source": [
    "y_test[:5]"
   ]
  },
  {
   "cell_type": "code",
   "execution_count": 147,
   "id": "23ab5fef",
   "metadata": {},
   "outputs": [
    {
     "name": "stdout",
     "output_type": "stream",
     "text": [
      "predicted :-  horse\n"
     ]
    },
    {
     "data": {
      "text/plain": [
       "<Figure size 1080x144 with 0 Axes>"
      ]
     },
     "metadata": {},
     "output_type": "display_data"
    },
    {
     "data": {
      "image/png": "[encoded data removed]",
      "text/plain": [
       "<Figure size 288x288 with 1 Axes>"
      ]
     },
     "metadata": {
      "needs_background": "light"
     },
     "output_type": "display_data"
    }
   ],
   "source": [
    "idx=2331\n",
    "plot_sample(X_test,y_test,idx)\n",
    "print('predicted :- ',classes[y_classes[idx]])"
   ]
  },
  {
   "cell_type": "code",
   "execution_count": 148,
   "id": "88d91df8",
   "metadata": {},
   "outputs": [
    {
     "name": "stdout",
     "output_type": "stream",
     "text": [
      "              precision    recall  f1-score   support\n",
      "\n",
      "           0       0.72      0.76      0.74      1000\n",
      "           1       0.78      0.82      0.80      1000\n",
      "           2       0.53      0.66      0.59      1000\n",
      "           3       0.50      0.47      0.48      1000\n",
      "           4       0.72      0.55      0.62      1000\n",
      "           5       0.61      0.58      0.60      1000\n",
      "           6       0.75      0.75      0.75      1000\n",
      "           7       0.74      0.71      0.72      1000\n",
      "           8       0.77      0.81      0.79      1000\n",
      "           9       0.78      0.74      0.76      1000\n",
      "\n",
      "    accuracy                           0.69     10000\n",
      "   macro avg       0.69      0.69      0.69     10000\n",
      "weighted avg       0.69      0.69      0.69     10000\n",
      "\n"
     ]
    }
   ],
   "source": [
    "print(classification_report(y_test,y_classes))"
   ]
  },
  {
   "cell_type": "code",
   "execution_count": null,
   "id": "2d0000a5",
   "metadata": {},
   "outputs": [],
   "source": []
  }
 ],
 "metadata": {
  "kernelspec": {
   "display_name": "Python 3",
   "language": "python",
   "name": "python3"
  },
  "language_info": {
   "codemirror_mode": {
    "name": "ipython",
    "version": 3
   },
   "file_extension": ".py",
   "mimetype": "text/x-python",
   "name": "python",
   "nbconvert_exporter": "python",
   "pygments_lexer": "ipython3",
   "version": "3.8.8"
  }
 },
 "nbformat": 4,
 "nbformat_minor": 5
}
